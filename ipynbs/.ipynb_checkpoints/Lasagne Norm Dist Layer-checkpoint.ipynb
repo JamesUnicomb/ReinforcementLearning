{
 "cells": [
  {
   "cell_type": "code",
   "execution_count": 11,
   "metadata": {
    "collapsed": true
   },
   "outputs": [],
   "source": [
    "from math import *\n",
    "import numpy as np\n",
    "import theano\n",
    "import theano.tensor as T\n",
    "import matplotlib.pyplot as plt\n",
    "\n",
    "%matplotlib inline"
   ]
  },
  {
   "cell_type": "code",
   "execution_count": 49,
   "metadata": {},
   "outputs": [],
   "source": [
    "x     = T.fvector()\n",
    "mu    = T.fvector()\n",
    "sigma = T.scalar()\n",
    "\n",
    "norm_dist = 1 / T.sqrt(2 * pi * sigma * sigma) * T.exp( - (mu - x) * (mu - x) / (2 * sigma * sigma))\n",
    "\n",
    "N = theano.function(inputs               = [x, mu, sigma],\n",
    "                    outputs              = norm_dist,\n",
    "                    allow_input_downcast = True)"
   ]
  },
  {
   "cell_type": "code",
   "execution_count": 66,
   "metadata": {},
   "outputs": [
    {
     "data": {
      "text/plain": [
       "[<matplotlib.lines.Line2D at 0x1087fd150>]"
      ]
     },
     "execution_count": 66,
     "metadata": {},
     "output_type": "execute_result"
    },
    {
     "data": {
      "image/png": "[encoded data removed]",
      "text/plain": [
       "<matplotlib.figure.Figure at 0x108a54b90>"
      ]
     },
     "metadata": {},
     "output_type": "display_data"
    }
   ],
   "source": [
    "plt.plot(np.arange(-3,3,0.01),N(np.arange(-3,3,0.01), 0.0 * np.ones(600), 1.0))"
   ]
  },
  {
   "cell_type": "code",
   "execution_count": 60,
   "metadata": {},
   "outputs": [],
   "source": [
    "n_g = - (mu - x) / (sigma * sigma)\n",
    "\n",
    "N_g = theano.function(inputs               = [x, mu, sigma],\n",
    "                      outputs              = n_g,\n",
    "                      allow_input_downcast = True)"
   ]
  },
  {
   "cell_type": "code",
   "execution_count": 67,
   "metadata": {},
   "outputs": [
    {
     "data": {
      "text/plain": [
       "[<matplotlib.lines.Line2D at 0x108858950>]"
      ]
     },
     "execution_count": 67,
     "metadata": {},
     "output_type": "execute_result"
    },
    {
     "data": {
      "image/png": "[encoded data removed]",
      "text/plain": [
       "<matplotlib.figure.Figure at 0x10864ef10>"
      ]
     },
     "metadata": {},
     "output_type": "display_data"
    }
   ],
   "source": [
    "plt.plot(np.arange(-3,3,0.01),N_g(np.arange(-3,3,0.01), 0.0 * np.ones(600), 1.0))"
   ]
  },
  {
   "cell_type": "code",
   "execution_count": 93,
   "metadata": {},
   "outputs": [
    {
     "data": {
      "text/plain": [
       "[array([[  90.57941475,  105.70360197,   95.88155363,  106.77611537],\n",
       "        [ 103.98332954,   97.67182602,  101.83989811,   98.20516946],\n",
       "        [  94.70438317,  104.09125561,  103.59691089,  121.97776458],\n",
       "        [ 103.9666983 ,  109.21412732,   96.35519554,  108.18989005],\n",
       "        [  88.39477776,   94.23099959,  107.2193159 ,  110.65331372],\n",
       "        [  89.76873583,   97.11112017,  103.16451618,  113.91937105],\n",
       "        [ 101.29259668,   91.86457283,  102.21652407,   87.21773491],\n",
       "        [ 104.0545697 ,  107.43198425,   83.23601592,   74.68124959],\n",
       "        [  87.89686853,   93.92024717,  104.02417983,  102.91864506],\n",
       "        [ 117.15810661,  107.21123069,   89.77726849,   80.18588839]]),\n",
       " array([[  8.89256438e+00,  -4.49608966e+01,   1.10984684e+02,\n",
       "          -2.70195562e+01],\n",
       "        [ -1.30357548e+02,   6.22864051e+02,  -1.30214896e+03,\n",
       "           1.36500346e+03],\n",
       "        [  5.17295162e+01,  -1.20405491e+02,  -1.76547632e+02,\n",
       "          -8.77922685e-01],\n",
       "        [ -1.31988100e+02,  -1.09333375e+01,   1.60705140e+02,\n",
       "          -1.54578133e+01],\n",
       "        [  4.67271209e+00,   3.98636792e+01,  -2.24132299e+01,\n",
       "          -7.14539686e+00],\n",
       "        [  6.89636410e+00,   3.24629713e+02,  -2.58437364e+02,\n",
       "          -3.27620220e+00],\n",
       "        [ -3.74016599e+03,   1.39509277e+01,  -7.46849395e+02,\n",
       "           3.46323144e+00],\n",
       "        [ -1.23670427e+02,  -2.05747739e+01,   1.48443803e+00,\n",
       "           3.99152564e-01],\n",
       "        [  4.10255368e+00,   3.39751838e+01,  -1.26465466e+02,\n",
       "          -3.28814059e+02],\n",
       "        [ -1.78764742e+00,  -2.24874093e+01,   6.91412675e+00,\n",
       "           8.75435188e-01]])]"
      ]
     },
     "execution_count": 93,
     "metadata": {},
     "output_type": "execute_result"
    }
   ],
   "source": [
    "import os, inspect\n",
    "\n",
    "import numpy as np\n",
    "from math import *\n",
    "\n",
    "import theano\n",
    "import theano.tensor as T\n",
    "from theano.tensor.extra_ops import to_one_hot, repeat\n",
    "from theano.tensor.raw_random import multinomial\n",
    "\n",
    "import lasagne\n",
    "from lasagne.updates import adam\n",
    "from lasagne.objectives import categorical_crossentropy\n",
    "from lasagne.layers import DenseLayer, InputLayer, ConcatLayer, get_output, \\\n",
    "                           get_all_params, get_all_param_values, set_all_param_values\n",
    "from lasagne.nonlinearities import rectify, softmax, tanh, linear\n",
    "from lasagne.init import Constant, Normal\n",
    "\n",
    "\n",
    "n_state  = 10\n",
    "n_action = 4\n",
    "\n",
    "def policy_network(state):\n",
    "    input_state = InputLayer(input_var = state,\n",
    "                             shape     = (None, n_state))\n",
    "\n",
    "    dense       = DenseLayer(input_state,\n",
    "                             num_units    = n_state,\n",
    "                             nonlinearity = tanh,\n",
    "                             W            = Normal(0.3, 0.0),\n",
    "                             b            = Constant(0.0))\n",
    "\n",
    "    dense       = DenseLayer(dense,\n",
    "                             num_units    = n_state,\n",
    "                             nonlinearity = tanh,\n",
    "                             W            = Normal(0.3, 0.0),\n",
    "                             b            = Constant(0.0))\n",
    "\n",
    "    mean        = DenseLayer(dense,\n",
    "                             num_units    = n_action,\n",
    "                             nonlinearity = linear,\n",
    "                             W            = Normal(0.3, 0.0),\n",
    "                             b            = Constant(0.0))\n",
    "\n",
    "    sigma       = DenseLayer(dense,\n",
    "                             num_units    = n_action,\n",
    "                             nonlinearity = T.exp,\n",
    "                             W            = Normal(0.3, 0.0),\n",
    "                             b            = Constant(0.0))\n",
    "\n",
    "    return mean, sigma\n",
    "\n",
    "\n",
    "X_state  = T.fmatrix()\n",
    "X_action = T.fmatrix()\n",
    "X_reward = T.fmatrix()\n",
    "\n",
    "\n",
    "policy_mean_, policy_sigma_ = policy_network(X_state)\n",
    "policy_mean                      = get_output(policy_mean_)\n",
    "policy_sigma                     = get_output(policy_sigma_)\n",
    "\n",
    "\n",
    "action_dist = theano.function(inputs               = [X_state],\n",
    "                              outputs              = [policy_mean, policy_sigma],\n",
    "                              allow_input_downcast = True)\n",
    "\n",
    "\n",
    "mean_grads_  = ((X_action - policy_mean) * policy_sigma ** -2) * X_reward\n",
    "sigma_grads_ = (-policy_sigma ** -1 + (X_action - policy_mean) ** 2 * policy_sigma ** -3) * X_reward\n",
    "\n",
    "\n",
    "get_grads = theano.function(inputs               = [X_state, X_action, X_reward],\n",
    "                            outputs              = [(X_action - policy_mean) ** 2, policy_mean** -3, repeat(X_reward, n_action, axis = 1)],\n",
    "                            allow_input_downcast = True)\n",
    "\n",
    "get_grads(np.random.randn(10,10), 10 * np.ones((10,4)), np.ones(10,1))"
   ]
  },
  {
   "cell_type": "code",
   "execution_count": null,
   "metadata": {
    "collapsed": true
   },
   "outputs": [],
   "source": []
  }
 ],
 "metadata": {
  "kernelspec": {
   "display_name": "Python 2",
   "language": "python",
   "name": "python2"
  },
  "language_info": {
   "codemirror_mode": {
    "name": "ipython",
    "version": 2
   },
   "file_extension": ".py",
   "mimetype": "text/x-python",
   "name": "python",
   "nbconvert_exporter": "python",
   "pygments_lexer": "ipython2",
   "version": "2.7.10"
  }
 },
 "nbformat": 4,
 "nbformat_minor": 2
}
